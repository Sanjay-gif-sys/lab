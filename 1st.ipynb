{
 "cells": [
  {
   "cell_type": "code",
   "execution_count": 1,
   "id": "3467830c",
   "metadata": {},
   "outputs": [],
   "source": [
    "import numpy as np\n",
    "import pandas as pd"
   ]
  },
  {
   "cell_type": "code",
   "execution_count": 2,
   "id": "6361663f",
   "metadata": {},
   "outputs": [
    {
     "data": {
      "text/plain": [
       "[115.3, 195.5, 120.5, 110.2, 90.4, 105.6, 110.9, 116.3, 122.3, 125.4]"
      ]
     },
     "execution_count": 2,
     "metadata": {},
     "output_type": "execute_result"
    }
   ],
   "source": [
    "val=[115.3, 195.5, 120.5, 110.2, 90.4, 105.6, 110.9, 116.3, 122.3, 125.4]\n",
    "val"
   ]
  },
  {
   "cell_type": "code",
   "execution_count": 3,
   "id": "153c4da1",
   "metadata": {},
   "outputs": [
    {
     "name": "stdout",
     "output_type": "stream",
     "text": [
      "121.24000000000001\n"
     ]
    }
   ],
   "source": [
    "s=0\n",
    "for x in val:\n",
    "    s+=x\n",
    "print(s/len(val))"
   ]
  },
  {
   "cell_type": "code",
   "execution_count": 14,
   "id": "70185c0c",
   "metadata": {},
   "outputs": [
    {
     "data": {
      "text/plain": [
       "[90.4, 105.6, 110.2, 110.9, 115.3, 116.3, 120.5, 122.3, 125.4, 195.5]"
      ]
     },
     "execution_count": 14,
     "metadata": {},
     "output_type": "execute_result"
    }
   ],
   "source": [
    "val.sort()\n",
    "val"
   ]
  },
  {
   "cell_type": "code",
   "execution_count": 20,
   "id": "bba6eaad",
   "metadata": {},
   "outputs": [
    {
     "name": "stdout",
     "output_type": "stream",
     "text": [
      "{90.4: 1, 105.6: 1, 110.2: 1, 110.9: 1, 115.3: 1, 116.3: 1, 120.5: 1, 122.3: 1, 125.4: 1, 195.5: 1}\n",
      "90.4\n"
     ]
    }
   ],
   "source": [
    "c=0\n",
    "di=dict()\n",
    "for i in range(0,len(val)):\n",
    "    di[val[i]]=di.get(val[i],0)+1\n",
    "print(di)\n",
    "for k,v in di.items():\n",
    "    if v>c:\n",
    "        c=v\n",
    "        ele=k\n",
    "print(ele)"
   ]
  },
  {
   "cell_type": "code",
   "execution_count": 24,
   "id": "4e974516",
   "metadata": {},
   "outputs": [
    {
     "name": "stdout",
     "output_type": "stream",
     "text": [
      "26.476404589747453\n"
     ]
    }
   ],
   "source": [
    "s=0\n",
    "for x in val:\n",
    "    s+=x\n",
    "me=s/len(val)\n",
    "sum=0\n",
    "for x in val:\n",
    "    sum+=(x-me)**2\n",
    "print((sum//len(val))**0.5)\n",
    "    "
   ]
  },
  {
   "cell_type": "code",
   "execution_count": 25,
   "id": "90aa418c",
   "metadata": {},
   "outputs": [
    {
     "name": "stdout",
     "output_type": "stream",
     "text": [
      "701.0\n"
     ]
    }
   ],
   "source": [
    "s=0\n",
    "for x in val:\n",
    "    s+=x\n",
    "me=s/len(val)\n",
    "sum=0\n",
    "for x in val:\n",
    "    sum+=(x-me)**2\n",
    "print((sum//len(val)))"
   ]
  },
  {
   "cell_type": "code",
   "execution_count": 30,
   "id": "50647719",
   "metadata": {},
   "outputs": [
    {
     "data": {
      "text/plain": [
       "array([0.        , 0.14462417, 0.18839201, 0.19505233, 0.23691722,\n",
       "       0.24643197, 0.28639391, 0.30352046, 0.33301618, 1.        ])"
      ]
     },
     "execution_count": 30,
     "metadata": {},
     "output_type": "execute_result"
    }
   ],
   "source": [
    "cp=np.copy(val)\n",
    "a=np.min(val)\n",
    "b=np.max(val)-a\n",
    "for i in range(0,len(val)):\n",
    "    cp[i]=(val[i]-a)/b\n",
    "cp"
   ]
  },
  {
   "cell_type": "code",
   "execution_count": 31,
   "id": "3e429f16",
   "metadata": {},
   "outputs": [
    {
     "data": {
      "text/plain": [
       "array([0.52712812, 0.65249928, 0.69044055, 0.69621423, 0.73250588,\n",
       "       0.74075398, 0.77539601, 0.7902426 , 0.81581172, 1.39400374])"
      ]
     },
     "execution_count": 31,
     "metadata": {},
     "output_type": "execute_result"
    }
   ],
   "source": [
    "cp=np.copy(val)\n",
    "a=np.std(val)\n",
    "b=np.mean(val)\n",
    "for i in range(0,len(val)):\n",
    "    cp[i]=(val[i]-a)/b\n",
    "cp"
   ]
  },
  {
   "cell_type": "code",
   "execution_count": null,
   "id": "0e57468d",
   "metadata": {},
   "outputs": [],
   "source": []
  }
 ],
 "metadata": {
  "kernelspec": {
   "display_name": "Python 3 (ipykernel)",
   "language": "python",
   "name": "python3"
  },
  "language_info": {
   "codemirror_mode": {
    "name": "ipython",
    "version": 3
   },
   "file_extension": ".py",
   "mimetype": "text/x-python",
   "name": "python",
   "nbconvert_exporter": "python",
   "pygments_lexer": "ipython3",
   "version": "3.9.7"
  }
 },
 "nbformat": 4,
 "nbformat_minor": 5
}
