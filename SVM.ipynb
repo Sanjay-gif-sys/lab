{
 "cells": [
  {
   "cell_type": "code",
   "execution_count": 1,
   "id": "be8dd887",
   "metadata": {},
   "outputs": [],
   "source": [
    "import pandas as pd\n",
    "import numpy as np"
   ]
  },
  {
   "cell_type": "code",
   "execution_count": 2,
   "id": "3db096c8",
   "metadata": {},
   "outputs": [
    {
     "name": "stdout",
     "output_type": "stream",
     "text": [
      "   Id       RI     Na    Mg    Al    Si      K    Ca   Ba   Fe  Type\n",
      "0   1  1.52101  13.64  4.49  1.10  71.78  0.06  8.75  0.0  0.0     1\n",
      "1   2  1.51761  13.89  3.60  1.36  72.73  0.48  7.83  0.0  0.0     1\n",
      "2   3  1.51618  13.53  3.55  1.54  72.99  0.39  7.78  0.0  0.0     1\n",
      "3   4  1.51766  13.21  3.69  1.29  72.61  0.57  8.22  0.0  0.0     1\n",
      "4   5  1.51742  13.27  3.62  1.24  73.08  0.55  8.07  0.0  0.0     1\n"
     ]
    }
   ],
   "source": [
    "data=pd.read_csv(\"glass.csv\")\n",
    "print(data.head(5))"
   ]
  },
  {
   "cell_type": "code",
   "execution_count": 3,
   "id": "71b9605a",
   "metadata": {},
   "outputs": [],
   "source": [
    "x=data.drop(\"Type\",axis=1)\n",
    "y=data[\"Type\"]"
   ]
  },
  {
   "cell_type": "code",
   "execution_count": 4,
   "id": "dfe4ff3b",
   "metadata": {},
   "outputs": [],
   "source": [
    "\n",
    "from sklearn.model_selection import train_test_split\n",
    "xtrain,xtest,ytrain,ytest=train_test_split(x,y,test_size=0.2)"
   ]
  },
  {
   "cell_type": "code",
   "execution_count": 5,
   "id": "1d6758cb",
   "metadata": {},
   "outputs": [],
   "source": [
    "from sklearn import svm\n",
    "from sklearn.svm import SVC\n",
    "\n",
    "model=SVC(kernel=\"linear\")\n",
    "model.fit(xtrain,ytrain)\n",
    "ypred=model.predict(xtest)"
   ]
  },
  {
   "cell_type": "code",
   "execution_count": 6,
   "id": "c5cd52de",
   "metadata": {},
   "outputs": [
    {
     "name": "stdout",
     "output_type": "stream",
     "text": [
      "0.9534883720930233\n"
     ]
    }
   ],
   "source": [
    "from sklearn.metrics import accuracy_score\n",
    "print(accuracy_score(ypred,ytest))"
   ]
  },
  {
   "cell_type": "code",
   "execution_count": 7,
   "id": "3d5d8dec",
   "metadata": {},
   "outputs": [],
   "source": [
    "model1=SVC(kernel=\"sigmoid\")\n",
    "model2=SVC(kernel=\"poly\")\n",
    "model3=SVC(kernel=\"rbf\")\n",
    "\n",
    "model1.fit(xtrain,ytrain)\n",
    "model2.fit(xtrain,ytrain)\n",
    "model3.fit(xtrain,ytrain)\n",
    "\n",
    "ypred1=model1.predict(xtest)\n",
    "ypred2=model2.predict(xtest)\n",
    "ypred3=model3.predict(xtest)"
   ]
  },
  {
   "cell_type": "code",
   "execution_count": 8,
   "id": "f084b639",
   "metadata": {},
   "outputs": [
    {
     "name": "stdout",
     "output_type": "stream",
     "text": [
      "0.6976744186046512\n",
      "0.9534883720930233\n",
      "0.813953488372093\n"
     ]
    }
   ],
   "source": [
    "print(accuracy_score(ypred1,ytest))\n",
    "print(accuracy_score(ypred2,ytest))\n",
    "print(accuracy_score(ypred3,ytest))"
   ]
  },
  {
   "cell_type": "code",
   "execution_count": null,
   "id": "b42aa65e",
   "metadata": {},
   "outputs": [],
   "source": []
  }
 ],
 "metadata": {
  "kernelspec": {
   "display_name": "Python 3",
   "language": "python",
   "name": "python3"
  },
  "language_info": {
   "codemirror_mode": {
    "name": "ipython",
    "version": 3
   },
   "file_extension": ".py",
   "mimetype": "text/x-python",
   "name": "python",
   "nbconvert_exporter": "python",
   "pygments_lexer": "ipython3",
   "version": "3.8.8"
  }
 },
 "nbformat": 4,
 "nbformat_minor": 5
}
