{
 "cells": [
  {
   "cell_type": "code",
   "execution_count": 23,
   "id": "80d5bc85",
   "metadata": {},
   "outputs": [],
   "source": [
    "import pandas as pd\n",
    "import numpy as np"
   ]
  },
  {
   "cell_type": "code",
   "execution_count": 24,
   "id": "cf35674b",
   "metadata": {},
   "outputs": [
    {
     "name": "stdout",
     "output_type": "stream",
     "text": [
      "   xlabel   ylabel\n",
      "0  6.1101  17.5920\n",
      "1  5.5277   9.1302\n",
      "2  8.5186  13.6620\n",
      "3  7.0032  11.8540\n",
      "4  5.8598   6.8233\n"
     ]
    }
   ],
   "source": [
    "data=pd.read_csv(\"Food-Truck-LineReg.csv\")\n",
    "print(data.head(5))"
   ]
  },
  {
   "cell_type": "code",
   "execution_count": 25,
   "id": "fd608cd8",
   "metadata": {},
   "outputs": [
    {
     "data": {
      "text/plain": [
       "<AxesSubplot:xlabel='xlabel'>"
      ]
     },
     "execution_count": 25,
     "metadata": {},
     "output_type": "execute_result"
    },
    {
     "data": {
      "image/png": "[encoded data removed]",
      "text/plain": [
       "<Figure size 432x288 with 1 Axes>"
      ]
     },
     "metadata": {
      "needs_background": "light"
     },
     "output_type": "display_data"
    }
   ],
   "source": [
    "import matplotlib.pyplot as plt\n",
    "data.plot(x=\"xlabel\",y=\"ylabel\",style=\"o\")"
   ]
  },
  {
   "cell_type": "code",
   "execution_count": 26,
   "id": "1ac23bc1",
   "metadata": {},
   "outputs": [],
   "source": [
    "xmean=data[\"xlabel\"].mean()\n",
    "ymean=data[\"ylabel\"].mean()"
   ]
  },
  {
   "cell_type": "code",
   "execution_count": 27,
   "id": "e3f3b401",
   "metadata": {},
   "outputs": [],
   "source": [
    "data[\"x\"]=data[\"xlabel\"]-xmean\n",
    "data[\"y\"]=data[\"ylabel\"]-xmean\n",
    "data[\"x*y\"]=data[\"x\"]*data[\"y\"]\n",
    "data[\"x^2\"]=data[\"x\"]**2\n",
    "data[\"y^2\"]=data[\"y\"]**2\n"
   ]
  },
  {
   "cell_type": "code",
   "execution_count": 28,
   "id": "88f93a33",
   "metadata": {},
   "outputs": [
    {
     "name": "stdout",
     "output_type": "stream",
     "text": [
      "     xlabel    ylabel       x        y        x*y        x^2        y^2\n",
      "0    6.1101  17.59200 -2.0497  9.43220 -19.333180   4.201270  88.966397\n",
      "1    5.5277   9.13020 -2.6321  0.97040  -2.554190   6.927950   0.941676\n",
      "2    8.5186  13.66200  0.3588  5.50220   1.974189   0.128737  30.274205\n",
      "3    7.0032  11.85400 -1.1566  3.69420  -4.272712   1.337724  13.647114\n",
      "4    5.8598   6.82330 -2.3000 -1.33650   3.073950   5.290000   1.786232\n",
      "..      ...       ...     ...      ...        ...        ...        ...\n",
      "92   5.8707   7.20290 -2.2891 -0.95690   2.190440   5.239979   0.915658\n",
      "93   5.3054   1.98690 -2.8544 -6.17290  17.619926   8.147599  38.104694\n",
      "94   8.2934   0.14454  0.1336 -8.01526  -1.070839   0.017849  64.244393\n",
      "95  13.3940   9.05510  5.2342  0.89530   4.686179  27.396850   0.801562\n",
      "96   5.4369   0.61705 -2.7229 -7.54275  20.538154   7.414184  56.893078\n",
      "\n",
      "[97 rows x 7 columns]\n"
     ]
    }
   ],
   "source": [
    "print(data)"
   ]
  },
  {
   "cell_type": "code",
   "execution_count": 29,
   "id": "3582f9f5",
   "metadata": {},
   "outputs": [],
   "source": [
    "sum_xy=data[\"x*y\"].sum()\n",
    "sum_x2=data[\"x^2\"].sum()\n",
    "sum_y2=data[\"y^2\"].sum()"
   ]
  },
  {
   "cell_type": "code",
   "execution_count": 30,
   "id": "e316aad1",
   "metadata": {},
   "outputs": [],
   "source": [
    "correlation=sum_xy/(sum_x2*sum_y2)**0.5"
   ]
  },
  {
   "cell_type": "code",
   "execution_count": 31,
   "id": "e5f68bef",
   "metadata": {},
   "outputs": [],
   "source": [
    "std_y=np.std(data[\"y\"])\n",
    "std_x=np.std(data[\"x\"])"
   ]
  },
  {
   "cell_type": "code",
   "execution_count": 32,
   "id": "c35b1d03",
   "metadata": {},
   "outputs": [],
   "source": [
    "m=correlation*(std_y/std_x)"
   ]
  },
  {
   "cell_type": "code",
   "execution_count": 33,
   "id": "62940d61",
   "metadata": {},
   "outputs": [
    {
     "data": {
      "text/plain": [
       "1.098640742139576"
      ]
     },
     "execution_count": 33,
     "metadata": {},
     "output_type": "execute_result"
    }
   ],
   "source": [
    "m"
   ]
  },
  {
   "cell_type": "code",
   "execution_count": 34,
   "id": "b4b3dc97",
   "metadata": {},
   "outputs": [
    {
     "data": {
      "text/plain": [
       "-3.1255536761641247"
      ]
     },
     "execution_count": 34,
     "metadata": {},
     "output_type": "execute_result"
    }
   ],
   "source": [
    "c=data[\"ylabel\"].mean()-m*data[\"xlabel\"].mean()\n",
    "c"
   ]
  },
  {
   "cell_type": "code",
   "execution_count": 38,
   "id": "0f07521e",
   "metadata": {},
   "outputs": [
    {
     "name": "stdout",
     "output_type": "stream",
     "text": [
      "     xlabel    ylabel       x        y        x*y        x^2        y^2  \\\n",
      "0    6.1101  17.59200 -2.0497  9.43220 -19.333180   4.201270  88.966397   \n",
      "1    5.5277   9.13020 -2.6321  0.97040  -2.554190   6.927950   0.941676   \n",
      "2    8.5186  13.66200  0.3588  5.50220   1.974189   0.128737  30.274205   \n",
      "3    7.0032  11.85400 -1.1566  3.69420  -4.272712   1.337724  13.647114   \n",
      "4    5.8598   6.82330 -2.3000 -1.33650   3.073950   5.290000   1.786232   \n",
      "..      ...       ...     ...      ...        ...        ...        ...   \n",
      "92   5.8707   7.20290 -2.2891 -0.95690   2.190440   5.239979   0.915658   \n",
      "93   5.3054   1.98690 -2.8544 -6.17290  17.619926   8.147599  38.104694   \n",
      "94   8.2934   0.14454  0.1336 -8.01526  -1.070839   0.017849  64.244393   \n",
      "95  13.3940   9.05510  5.2342  0.89530   4.686179  27.396850   0.801562   \n",
      "96   5.4369   0.61705 -2.7229 -7.54275  20.538154   7.414184  56.893078   \n",
      "\n",
      "        ypred  \n",
      "0    3.587251  \n",
      "1    2.947403  \n",
      "2    6.233327  \n",
      "3    4.568447  \n",
      "4    3.312261  \n",
      "..        ...  \n",
      "92   3.324237  \n",
      "93   2.703175  \n",
      "94   5.985913  \n",
      "95  11.589640  \n",
      "96   2.847646  \n",
      "\n",
      "[97 rows x 8 columns]\n"
     ]
    }
   ],
   "source": [
    "data[\"ypred\"]=m*data[\"xlabel\"]+c\n",
    "print(data)"
   ]
  },
  {
   "cell_type": "code",
   "execution_count": 41,
   "id": "9d77f1e9",
   "metadata": {},
   "outputs": [
    {
     "data": {
      "text/plain": [
       "[<matplotlib.lines.Line2D at 0x7ff4a788cd90>]"
      ]
     },
     "execution_count": 41,
     "metadata": {},
     "output_type": "execute_result"
    },
    {
     "data": {
      "image/png": "[encoded data removed]",
      "text/plain": [
       "<Figure size 432x288 with 1 Axes>"
      ]
     },
     "metadata": {
      "needs_background": "light"
     },
     "output_type": "display_data"
    }
   ],
   "source": [
    "plt.scatter(data[\"xlabel\"],data[\"ylabel\"])\n",
    "plt.plot(data[\"xlabel\"],data[\"ypred\"])"
   ]
  },
  {
   "cell_type": "code",
   "execution_count": 42,
   "id": "2a1780da",
   "metadata": {},
   "outputs": [],
   "source": [
    "ssr=sum((data[\"ypred\"]-data[\"ylabel\"].mean())**2)"
   ]
  },
  {
   "cell_type": "code",
   "execution_count": 49,
   "id": "0fe42228",
   "metadata": {},
   "outputs": [
    {
     "data": {
      "text/plain": [
       "881.3423457254235"
      ]
     },
     "execution_count": 49,
     "metadata": {},
     "output_type": "execute_result"
    }
   ],
   "source": [
    "sse=sum((data[\"ylabel\"]-data[\"ypred\"])**2)\n",
    "sse"
   ]
  },
  {
   "cell_type": "code",
   "execution_count": 48,
   "id": "ded12b65",
   "metadata": {},
   "outputs": [
    {
     "data": {
      "text/plain": [
       "2616.6577513263837"
      ]
     },
     "execution_count": 48,
     "metadata": {},
     "output_type": "execute_result"
    }
   ],
   "source": [
    "sst=ssr+sse\n",
    "sst"
   ]
  },
  {
   "cell_type": "code",
   "execution_count": 47,
   "id": "a1b9e149",
   "metadata": {},
   "outputs": [
    {
     "data": {
      "text/plain": [
       "9.180649434639827"
      ]
     },
     "execution_count": 47,
     "metadata": {},
     "output_type": "execute_result"
    }
   ],
   "source": [
    "cost=sse/96\n",
    "cost"
   ]
  },
  {
   "cell_type": "code",
   "execution_count": 46,
   "id": "d3421afe",
   "metadata": {},
   "outputs": [
    {
     "data": {
      "text/plain": [
       "0.5953366934345163"
      ]
     },
     "execution_count": 46,
     "metadata": {},
     "output_type": "execute_result"
    }
   ],
   "source": [
    "correlation**2"
   ]
  },
  {
   "cell_type": "code",
   "execution_count": null,
   "id": "ea8da4b1",
   "metadata": {},
   "outputs": [],
   "source": []
  }
 ],
 "metadata": {
  "kernelspec": {
   "display_name": "Python 3",
   "language": "python",
   "name": "python3"
  },
  "language_info": {
   "codemirror_mode": {
    "name": "ipython",
    "version": 3
   },
   "file_extension": ".py",
   "mimetype": "text/x-python",
   "name": "python",
   "nbconvert_exporter": "python",
   "pygments_lexer": "ipython3",
   "version": "3.8.8"
  }
 },
 "nbformat": 4,
 "nbformat_minor": 5
}
